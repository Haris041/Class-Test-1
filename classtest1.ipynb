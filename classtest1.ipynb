{
  "nbformat": 4,
  "nbformat_minor": 0,
  "metadata": {
    "colab": {
      "provenance": []
    },
    "kernelspec": {
      "name": "python3",
      "display_name": "Python 3"
    },
    "language_info": {
      "name": "python"
    }
  },
  "cells": [
    {
      "cell_type": "code",
      "execution_count": 1,
      "metadata": {
        "colab": {
          "base_uri": "https://localhost:8080/"
        },
        "id": "9smGbhLwX4aH",
        "outputId": "0d7b39b0-e45b-4fb5-e19d-9e3768d8f45f"
      },
      "outputs": [
        {
          "output_type": "stream",
          "name": "stdout",
          "text": [
            "the odd number is : 1\n",
            "the odd number is : 3\n",
            "the odd number is : 5\n",
            "the odd number is : 7\n"
          ]
        }
      ],
      "source": [
        "#Q.NO:1\n",
        "l=[1,2,3,4,5,6,7]\n",
        "for i in range(0,len(l)):\n",
        "  if (l[i] % 2) != 0:\n",
        "    print(\"the odd number is :\",l[i])"
      ]
    },
    {
      "cell_type": "code",
      "source": [
        "#Q.NO:2\n",
        "l1=[2,4,6,8,3]\n",
        "total =0\n",
        "for i in range(0,len(l1)):\n",
        "  total = total  + l1[i]\n",
        "print(total)"
      ],
      "metadata": {
        "colab": {
          "base_uri": "https://localhost:8080/"
        },
        "id": "sJdT9CgKX_Kl",
        "outputId": "acaaa3f8-a0b5-4609-8516-c89d3c375247"
      },
      "execution_count": 2,
      "outputs": [
        {
          "output_type": "stream",
          "name": "stdout",
          "text": [
            "23\n"
          ]
        }
      ]
    },
    {
      "cell_type": "code",
      "source": [
        "#Q.NO:3\n",
        "l2=[1,2,3,4,5,6]\n",
        "l2.reverse()\n",
        "print(\"reverse list: \", list(l2))"
      ],
      "metadata": {
        "colab": {
          "base_uri": "https://localhost:8080/"
        },
        "id": "er2jNmIrYDsN",
        "outputId": "cf1aee8c-d585-45e1-add7-9782e72bc9c1"
      },
      "execution_count": 3,
      "outputs": [
        {
          "output_type": "stream",
          "name": "stdout",
          "text": [
            "reverse list:  [6, 5, 4, 3, 2, 1]\n"
          ]
        }
      ]
    },
    {
      "cell_type": "code",
      "source": [
        "#Q.NO:4\n",
        "my_numbers = [10, 8, 3, 22, 33, 7, 11, 100, 54]\n",
        "x=len(my_numbers)\n",
        "my_numbers.sort()\n",
        "print(my_numbers[x-2])\n",
        "print(my_numbers[x-1])"
      ],
      "metadata": {
        "colab": {
          "base_uri": "https://localhost:8080/"
        },
        "id": "62NdB-GIYHCs",
        "outputId": "c23e5b87-2699-4a72-91a2-2941ee0b1b0f"
      },
      "execution_count": 5,
      "outputs": [
        {
          "output_type": "stream",
          "name": "stdout",
          "text": [
            "54\n",
            "100\n"
          ]
        }
      ]
    },
    {
      "cell_type": "code",
      "source": [
        "#Q.NO5\n",
        "my_numbers = [10, 8, 3, 22, 33, 7, 11, 100, 54]\n",
        "my_numbers.sort()\n",
        "print(\"The second highest number is: \",my_numbers[x-2])"
      ],
      "metadata": {
        "colab": {
          "base_uri": "https://localhost:8080/"
        },
        "id": "oTZzqrpmYfJn",
        "outputId": "8d054c50-10f2-4d61-9f2e-53c39880d645"
      },
      "execution_count": 6,
      "outputs": [
        {
          "output_type": "stream",
          "name": "stdout",
          "text": [
            "The second highest number is:  54\n"
          ]
        }
      ]
    },
    {
      "cell_type": "code",
      "source": [
        "#Q.NO6\n",
        "lis=[\"d\",\"c\",\"a\",\"b\"]\n",
        "lis.sort()\n",
        "print(lis)\n",
        "lis.reverse()\n",
        "print(\"reverse list: \", list(lis))"
      ],
      "metadata": {
        "colab": {
          "base_uri": "https://localhost:8080/"
        },
        "id": "fjxOqlkDYi0k",
        "outputId": "fd0c3cc7-bf49-43bc-e545-5e20db55a903"
      },
      "execution_count": 7,
      "outputs": [
        {
          "output_type": "stream",
          "name": "stdout",
          "text": [
            "['a', 'b', 'c', 'd']\n",
            "reverse list:  ['d', 'c', 'b', 'a']\n"
          ]
        }
      ]
    },
    {
      "cell_type": "code",
      "source": [
        "#Q.NO7\n",
        "k=input(\"enter the characters: \")\n",
        "#k=\"gig\"\n",
        "p=\"\"\n",
        "for check in k:\n",
        " if check not in p:\n",
        "   p=p+check\n",
        "print(p)"
      ],
      "metadata": {
        "colab": {
          "base_uri": "https://localhost:8080/"
        },
        "id": "bh_RD8fhYoqs",
        "outputId": "56a84e7b-9ad2-493b-ab54-67545b2e6be2"
      },
      "execution_count": 9,
      "outputs": [
        {
          "output_type": "stream",
          "name": "stdout",
          "text": [
            "enter the characters: ghighjk\n",
            "ghijk\n"
          ]
        }
      ]
    },
    {
      "cell_type": "code",
      "source": [
        "#Q.NO:8\n",
        "ch=input(\"eneter the character: \")\n",
        "if (ch == 'a') | (ch == 'e') | (ch == 'o') | (ch == 'u') | (ch == 'i' ):\n",
        "   print(\"The given character is \",ch , \"vowel\")\n",
        "else:\n",
        "  print(\"The given character is \",ch , \"consonant\")"
      ],
      "metadata": {
        "colab": {
          "base_uri": "https://localhost:8080/"
        },
        "id": "n94JwLIyYqSM",
        "outputId": "32e5a452-7af4-46c7-8dde-def399d9b32e"
      },
      "execution_count": 10,
      "outputs": [
        {
          "output_type": "stream",
          "name": "stdout",
          "text": [
            "eneter the character: u\n",
            "The given character is  u vowel\n"
          ]
        }
      ]
    },
    {
      "cell_type": "code",
      "source": [
        "#Q.NO9\n",
        "fact=int(input(\"enter the number  to find the factorial: \"))\n",
        "i=1\n",
        "#print(fact)\n",
        "for j in range(1,fact+1):\n",
        "  i=i*j\n",
        "print(\"The factorail of \" , fact,\"is\",i)"
      ],
      "metadata": {
        "colab": {
          "base_uri": "https://localhost:8080/"
        },
        "id": "zLcEfehYYzvZ",
        "outputId": "e2e3796c-ac10-4ad6-e06a-68c9505d940b"
      },
      "execution_count": 11,
      "outputs": [
        {
          "output_type": "stream",
          "name": "stdout",
          "text": [
            "enter the number  to find the factorial: 6\n",
            "The factorail of  6 is 720\n"
          ]
        }
      ]
    },
    {
      "cell_type": "code",
      "source": [
        " #Q.NO:10\n",
        "test_list3 = [1, 4, 5, 6, 5]\n",
        "test_list4 = [3, 5, 7, 2, 5]\n",
        "\n",
        "test_list3 = test_list3 + test_list4\n",
        "print (\"merged list is: \",str(test_list3))"
      ],
      "metadata": {
        "colab": {
          "base_uri": "https://localhost:8080/"
        },
        "id": "TbpQefHzY6uh",
        "outputId": "26e61d9b-5f61-4411-b436-e6ca2e1b52b1"
      },
      "execution_count": 12,
      "outputs": [
        {
          "output_type": "stream",
          "name": "stdout",
          "text": [
            "merged list is:  [1, 4, 5, 6, 5, 3, 5, 7, 2, 5]\n"
          ]
        }
      ]
    }
  ]
}